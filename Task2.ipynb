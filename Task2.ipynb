{
 "cells": [
  {
   "cell_type": "code",
   "execution_count": 1,
   "id": "6ea45824",
   "metadata": {},
   "outputs": [],
   "source": [
    "import numpy as np\n",
    "import pandas as pd\n",
    "import matplotlib.pyplot as plt\n",
    "import seaborn as sns"
   ]
  },
  {
   "cell_type": "code",
   "execution_count": 2,
   "id": "e969d744",
   "metadata": {},
   "outputs": [],
   "source": [
    "india_df=pd.read_csv('INDIAvi.csv')"
   ]
  },
  {
   "cell_type": "code",
   "execution_count": 3,
   "id": "e1710c96",
   "metadata": {},
   "outputs": [
    {
     "data": {
      "text/html": [
       "<div>\n",
       "<style scoped>\n",
       "    .dataframe tbody tr th:only-of-type {\n",
       "        vertical-align: middle;\n",
       "    }\n",
       "\n",
       "    .dataframe tbody tr th {\n",
       "        vertical-align: top;\n",
       "    }\n",
       "\n",
       "    .dataframe thead th {\n",
       "        text-align: right;\n",
       "    }\n",
       "</style>\n",
       "<table border=\"1\" class=\"dataframe\">\n",
       "  <thead>\n",
       "    <tr style=\"text-align: right;\">\n",
       "      <th></th>\n",
       "      <th>video_id</th>\n",
       "      <th>trending_date</th>\n",
       "      <th>title</th>\n",
       "      <th>channel_title</th>\n",
       "      <th>category_id</th>\n",
       "      <th>publish_time</th>\n",
       "      <th>tags</th>\n",
       "      <th>views</th>\n",
       "      <th>likes</th>\n",
       "      <th>dislikes</th>\n",
       "      <th>comment_count</th>\n",
       "      <th>thumbnail_link</th>\n",
       "      <th>comments_disabled</th>\n",
       "      <th>ratings_disabled</th>\n",
       "      <th>video_error_or_removed</th>\n",
       "      <th>description</th>\n",
       "    </tr>\n",
       "  </thead>\n",
       "  <tbody>\n",
       "    <tr>\n",
       "      <th>0</th>\n",
       "      <td>kzwfHumJyYc</td>\n",
       "      <td>17.14.11</td>\n",
       "      <td>Sharry Mann: Cute Munda ( Song Teaser) | Parmi...</td>\n",
       "      <td>Lokdhun Punjabi</td>\n",
       "      <td>1</td>\n",
       "      <td>2017-11-12T12:20:39.000Z</td>\n",
       "      <td>sharry mann|\"sharry mann new song\"|\"sharry man...</td>\n",
       "      <td>1096327</td>\n",
       "      <td>33966</td>\n",
       "      <td>798</td>\n",
       "      <td>882</td>\n",
       "      <td>https://i.ytimg.com/vi/kzwfHumJyYc/default.jpg</td>\n",
       "      <td>False</td>\n",
       "      <td>False</td>\n",
       "      <td>False</td>\n",
       "      <td>Presenting Sharry Mann latest Punjabi Song  Cu...</td>\n",
       "    </tr>\n",
       "    <tr>\n",
       "      <th>1</th>\n",
       "      <td>zUZ1z7FwLc8</td>\n",
       "      <td>17.14.11</td>\n",
       "      <td>पीरियड्स के समय, पेट पर पति करता ऐसा, देखकर दं...</td>\n",
       "      <td>HJ NEWS</td>\n",
       "      <td>25</td>\n",
       "      <td>2017-11-13T05:43:56.000Z</td>\n",
       "      <td>पीरियड्स के समय|\"पेट पर पति करता ऐसा\"|\"देखकर द...</td>\n",
       "      <td>590101</td>\n",
       "      <td>735</td>\n",
       "      <td>904</td>\n",
       "      <td>0</td>\n",
       "      <td>https://i.ytimg.com/vi/zUZ1z7FwLc8/default.jpg</td>\n",
       "      <td>True</td>\n",
       "      <td>False</td>\n",
       "      <td>False</td>\n",
       "      <td>पीरियड्स के समय, पेट पर पति करता ऐसा, देखकर दं...</td>\n",
       "    </tr>\n",
       "    <tr>\n",
       "      <th>2</th>\n",
       "      <td>10L1hZ9qa58</td>\n",
       "      <td>17.14.11</td>\n",
       "      <td>Stylish Star Allu Arjun @ ChaySam Wedding Rece...</td>\n",
       "      <td>TFPC</td>\n",
       "      <td>24</td>\n",
       "      <td>2017-11-12T15:48:08.000Z</td>\n",
       "      <td>Stylish Star Allu Arjun @ ChaySam Wedding Rece...</td>\n",
       "      <td>473988</td>\n",
       "      <td>2011</td>\n",
       "      <td>243</td>\n",
       "      <td>149</td>\n",
       "      <td>https://i.ytimg.com/vi/10L1hZ9qa58/default.jpg</td>\n",
       "      <td>False</td>\n",
       "      <td>False</td>\n",
       "      <td>False</td>\n",
       "      <td>Watch Stylish Star Allu Arjun @ ChaySam Weddin...</td>\n",
       "    </tr>\n",
       "    <tr>\n",
       "      <th>3</th>\n",
       "      <td>N1vE8iiEg64</td>\n",
       "      <td>17.14.11</td>\n",
       "      <td>Eruma Saani | Tamil vs English</td>\n",
       "      <td>Eruma Saani</td>\n",
       "      <td>23</td>\n",
       "      <td>2017-11-12T07:08:48.000Z</td>\n",
       "      <td>Eruma Saani|\"Tamil Comedy Videos\"|\"Films\"|\"Mov...</td>\n",
       "      <td>1242680</td>\n",
       "      <td>70353</td>\n",
       "      <td>1624</td>\n",
       "      <td>2684</td>\n",
       "      <td>https://i.ytimg.com/vi/N1vE8iiEg64/default.jpg</td>\n",
       "      <td>False</td>\n",
       "      <td>False</td>\n",
       "      <td>False</td>\n",
       "      <td>This video showcases the difference between pe...</td>\n",
       "    </tr>\n",
       "    <tr>\n",
       "      <th>4</th>\n",
       "      <td>kJzGH0PVQHQ</td>\n",
       "      <td>17.14.11</td>\n",
       "      <td>why Samantha became EMOTIONAL @ Samantha naga ...</td>\n",
       "      <td>Filmylooks</td>\n",
       "      <td>24</td>\n",
       "      <td>2017-11-13T01:14:16.000Z</td>\n",
       "      <td>Filmylooks|\"latest news\"|\"telugu movies\"|\"telu...</td>\n",
       "      <td>464015</td>\n",
       "      <td>492</td>\n",
       "      <td>293</td>\n",
       "      <td>66</td>\n",
       "      <td>https://i.ytimg.com/vi/kJzGH0PVQHQ/default.jpg</td>\n",
       "      <td>False</td>\n",
       "      <td>False</td>\n",
       "      <td>False</td>\n",
       "      <td>why Samantha became EMOTIONAL @ Samantha naga ...</td>\n",
       "    </tr>\n",
       "    <tr>\n",
       "      <th>...</th>\n",
       "      <td>...</td>\n",
       "      <td>...</td>\n",
       "      <td>...</td>\n",
       "      <td>...</td>\n",
       "      <td>...</td>\n",
       "      <td>...</td>\n",
       "      <td>...</td>\n",
       "      <td>...</td>\n",
       "      <td>...</td>\n",
       "      <td>...</td>\n",
       "      <td>...</td>\n",
       "      <td>...</td>\n",
       "      <td>...</td>\n",
       "      <td>...</td>\n",
       "      <td>...</td>\n",
       "      <td>...</td>\n",
       "    </tr>\n",
       "    <tr>\n",
       "      <th>37347</th>\n",
       "      <td>iNHecA3PJCo</td>\n",
       "      <td>18.14.06</td>\n",
       "      <td>फेकू आशिक़ - राजस्थान की सबसे शानदार कॉमेडी | ...</td>\n",
       "      <td>RDC Rajasthani</td>\n",
       "      <td>23</td>\n",
       "      <td>2018-06-13T08:01:11.000Z</td>\n",
       "      <td>twinkle vaishnav comedy|\"twinkle vaishnav\"|\"tw...</td>\n",
       "      <td>214378</td>\n",
       "      <td>3291</td>\n",
       "      <td>404</td>\n",
       "      <td>196</td>\n",
       "      <td>https://i.ytimg.com/vi/iNHecA3PJCo/default.jpg</td>\n",
       "      <td>False</td>\n",
       "      <td>False</td>\n",
       "      <td>False</td>\n",
       "      <td>PRG Music &amp; RDC Rajasthani presents फेकू आशिक़...</td>\n",
       "    </tr>\n",
       "    <tr>\n",
       "      <th>37348</th>\n",
       "      <td>dpPmPbhcslM</td>\n",
       "      <td>18.14.06</td>\n",
       "      <td>Seetha | Flowers | Ep# 364</td>\n",
       "      <td>Flowers TV</td>\n",
       "      <td>24</td>\n",
       "      <td>2018-06-13T11:30:04.000Z</td>\n",
       "      <td>flowers serials|\"actress\"|\"malayalam serials\"|...</td>\n",
       "      <td>406828</td>\n",
       "      <td>1726</td>\n",
       "      <td>478</td>\n",
       "      <td>1428</td>\n",
       "      <td>https://i.ytimg.com/vi/dpPmPbhcslM/default.jpg</td>\n",
       "      <td>False</td>\n",
       "      <td>False</td>\n",
       "      <td>False</td>\n",
       "      <td>Flowers - A R Rahman Show,Book your Tickets He...</td>\n",
       "    </tr>\n",
       "    <tr>\n",
       "      <th>37349</th>\n",
       "      <td>mV6aztP58f8</td>\n",
       "      <td>18.14.06</td>\n",
       "      <td>Bhramanam I Episode 87 - 12 June 2018 I Mazhav...</td>\n",
       "      <td>Mazhavil Manorama</td>\n",
       "      <td>24</td>\n",
       "      <td>2018-06-13T05:00:02.000Z</td>\n",
       "      <td>mazhavil manorama|\"bhramanam full episode\"|\"gt...</td>\n",
       "      <td>386319</td>\n",
       "      <td>1216</td>\n",
       "      <td>453</td>\n",
       "      <td>697</td>\n",
       "      <td>https://i.ytimg.com/vi/mV6aztP58f8/default.jpg</td>\n",
       "      <td>False</td>\n",
       "      <td>False</td>\n",
       "      <td>False</td>\n",
       "      <td>Subscribe to Mazhavil Manorama now for your da...</td>\n",
       "    </tr>\n",
       "    <tr>\n",
       "      <th>37350</th>\n",
       "      <td>qxqDNP1bDEw</td>\n",
       "      <td>18.14.06</td>\n",
       "      <td>Nua Bohu | Full Ep 285 | 13th June 2018 | Odia...</td>\n",
       "      <td>Tarang TV</td>\n",
       "      <td>24</td>\n",
       "      <td>2018-06-13T15:07:49.000Z</td>\n",
       "      <td>tarang|\"tarang tv\"|\"tarang tv online\"|\"tarang ...</td>\n",
       "      <td>130263</td>\n",
       "      <td>698</td>\n",
       "      <td>115</td>\n",
       "      <td>65</td>\n",
       "      <td>https://i.ytimg.com/vi/qxqDNP1bDEw/default.jpg</td>\n",
       "      <td>False</td>\n",
       "      <td>False</td>\n",
       "      <td>False</td>\n",
       "      <td>Nuabohu : Story of a rustic village girl who w...</td>\n",
       "    </tr>\n",
       "    <tr>\n",
       "      <th>37351</th>\n",
       "      <td>wERgpPK44w0</td>\n",
       "      <td>18.14.06</td>\n",
       "      <td>Ee Nagaraniki Emaindi Trailer | Tharun Bhascke...</td>\n",
       "      <td>Suresh Productions</td>\n",
       "      <td>24</td>\n",
       "      <td>2018-06-10T04:29:54.000Z</td>\n",
       "      <td>Ee Nagaraniki Emaindi|\"Ee Nagaraniki Emaindi T...</td>\n",
       "      <td>1278249</td>\n",
       "      <td>22466</td>\n",
       "      <td>1609</td>\n",
       "      <td>1205</td>\n",
       "      <td>https://i.ytimg.com/vi/wERgpPK44w0/default.jpg</td>\n",
       "      <td>False</td>\n",
       "      <td>False</td>\n",
       "      <td>False</td>\n",
       "      <td>Check out Ee Nagaraniki Emaindi Trailer #EeNag...</td>\n",
       "    </tr>\n",
       "  </tbody>\n",
       "</table>\n",
       "<p>37352 rows × 16 columns</p>\n",
       "</div>"
      ],
      "text/plain": [
       "          video_id trending_date  \\\n",
       "0      kzwfHumJyYc      17.14.11   \n",
       "1      zUZ1z7FwLc8      17.14.11   \n",
       "2      10L1hZ9qa58      17.14.11   \n",
       "3      N1vE8iiEg64      17.14.11   \n",
       "4      kJzGH0PVQHQ      17.14.11   \n",
       "...            ...           ...   \n",
       "37347  iNHecA3PJCo      18.14.06   \n",
       "37348  dpPmPbhcslM      18.14.06   \n",
       "37349  mV6aztP58f8      18.14.06   \n",
       "37350  qxqDNP1bDEw      18.14.06   \n",
       "37351  wERgpPK44w0      18.14.06   \n",
       "\n",
       "                                                   title       channel_title  \\\n",
       "0      Sharry Mann: Cute Munda ( Song Teaser) | Parmi...     Lokdhun Punjabi   \n",
       "1      पीरियड्स के समय, पेट पर पति करता ऐसा, देखकर दं...             HJ NEWS   \n",
       "2      Stylish Star Allu Arjun @ ChaySam Wedding Rece...                TFPC   \n",
       "3                         Eruma Saani | Tamil vs English         Eruma Saani   \n",
       "4      why Samantha became EMOTIONAL @ Samantha naga ...          Filmylooks   \n",
       "...                                                  ...                 ...   \n",
       "37347  फेकू आशिक़ - राजस्थान की सबसे शानदार कॉमेडी | ...      RDC Rajasthani   \n",
       "37348                         Seetha | Flowers | Ep# 364          Flowers TV   \n",
       "37349  Bhramanam I Episode 87 - 12 June 2018 I Mazhav...   Mazhavil Manorama   \n",
       "37350  Nua Bohu | Full Ep 285 | 13th June 2018 | Odia...           Tarang TV   \n",
       "37351  Ee Nagaraniki Emaindi Trailer | Tharun Bhascke...  Suresh Productions   \n",
       "\n",
       "       category_id              publish_time  \\\n",
       "0                1  2017-11-12T12:20:39.000Z   \n",
       "1               25  2017-11-13T05:43:56.000Z   \n",
       "2               24  2017-11-12T15:48:08.000Z   \n",
       "3               23  2017-11-12T07:08:48.000Z   \n",
       "4               24  2017-11-13T01:14:16.000Z   \n",
       "...            ...                       ...   \n",
       "37347           23  2018-06-13T08:01:11.000Z   \n",
       "37348           24  2018-06-13T11:30:04.000Z   \n",
       "37349           24  2018-06-13T05:00:02.000Z   \n",
       "37350           24  2018-06-13T15:07:49.000Z   \n",
       "37351           24  2018-06-10T04:29:54.000Z   \n",
       "\n",
       "                                                    tags    views  likes  \\\n",
       "0      sharry mann|\"sharry mann new song\"|\"sharry man...  1096327  33966   \n",
       "1      पीरियड्स के समय|\"पेट पर पति करता ऐसा\"|\"देखकर द...   590101    735   \n",
       "2      Stylish Star Allu Arjun @ ChaySam Wedding Rece...   473988   2011   \n",
       "3      Eruma Saani|\"Tamil Comedy Videos\"|\"Films\"|\"Mov...  1242680  70353   \n",
       "4      Filmylooks|\"latest news\"|\"telugu movies\"|\"telu...   464015    492   \n",
       "...                                                  ...      ...    ...   \n",
       "37347  twinkle vaishnav comedy|\"twinkle vaishnav\"|\"tw...   214378   3291   \n",
       "37348  flowers serials|\"actress\"|\"malayalam serials\"|...   406828   1726   \n",
       "37349  mazhavil manorama|\"bhramanam full episode\"|\"gt...   386319   1216   \n",
       "37350  tarang|\"tarang tv\"|\"tarang tv online\"|\"tarang ...   130263    698   \n",
       "37351  Ee Nagaraniki Emaindi|\"Ee Nagaraniki Emaindi T...  1278249  22466   \n",
       "\n",
       "       dislikes  comment_count  \\\n",
       "0           798            882   \n",
       "1           904              0   \n",
       "2           243            149   \n",
       "3          1624           2684   \n",
       "4           293             66   \n",
       "...         ...            ...   \n",
       "37347       404            196   \n",
       "37348       478           1428   \n",
       "37349       453            697   \n",
       "37350       115             65   \n",
       "37351      1609           1205   \n",
       "\n",
       "                                       thumbnail_link  comments_disabled  \\\n",
       "0      https://i.ytimg.com/vi/kzwfHumJyYc/default.jpg              False   \n",
       "1      https://i.ytimg.com/vi/zUZ1z7FwLc8/default.jpg               True   \n",
       "2      https://i.ytimg.com/vi/10L1hZ9qa58/default.jpg              False   \n",
       "3      https://i.ytimg.com/vi/N1vE8iiEg64/default.jpg              False   \n",
       "4      https://i.ytimg.com/vi/kJzGH0PVQHQ/default.jpg              False   \n",
       "...                                               ...                ...   \n",
       "37347  https://i.ytimg.com/vi/iNHecA3PJCo/default.jpg              False   \n",
       "37348  https://i.ytimg.com/vi/dpPmPbhcslM/default.jpg              False   \n",
       "37349  https://i.ytimg.com/vi/mV6aztP58f8/default.jpg              False   \n",
       "37350  https://i.ytimg.com/vi/qxqDNP1bDEw/default.jpg              False   \n",
       "37351  https://i.ytimg.com/vi/wERgpPK44w0/default.jpg              False   \n",
       "\n",
       "       ratings_disabled  video_error_or_removed  \\\n",
       "0                 False                   False   \n",
       "1                 False                   False   \n",
       "2                 False                   False   \n",
       "3                 False                   False   \n",
       "4                 False                   False   \n",
       "...                 ...                     ...   \n",
       "37347             False                   False   \n",
       "37348             False                   False   \n",
       "37349             False                   False   \n",
       "37350             False                   False   \n",
       "37351             False                   False   \n",
       "\n",
       "                                             description  \n",
       "0      Presenting Sharry Mann latest Punjabi Song  Cu...  \n",
       "1      पीरियड्स के समय, पेट पर पति करता ऐसा, देखकर दं...  \n",
       "2      Watch Stylish Star Allu Arjun @ ChaySam Weddin...  \n",
       "3      This video showcases the difference between pe...  \n",
       "4      why Samantha became EMOTIONAL @ Samantha naga ...  \n",
       "...                                                  ...  \n",
       "37347  PRG Music & RDC Rajasthani presents फेकू आशिक़...  \n",
       "37348  Flowers - A R Rahman Show,Book your Tickets He...  \n",
       "37349  Subscribe to Mazhavil Manorama now for your da...  \n",
       "37350  Nuabohu : Story of a rustic village girl who w...  \n",
       "37351  Check out Ee Nagaraniki Emaindi Trailer #EeNag...  \n",
       "\n",
       "[37352 rows x 16 columns]"
      ]
     },
     "execution_count": 3,
     "metadata": {},
     "output_type": "execute_result"
    }
   ],
   "source": [
    "india_df"
   ]
  },
  {
   "cell_type": "code",
   "execution_count": 4,
   "id": "48184c38",
   "metadata": {},
   "outputs": [
    {
     "data": {
      "text/html": [
       "<div>\n",
       "<style scoped>\n",
       "    .dataframe tbody tr th:only-of-type {\n",
       "        vertical-align: middle;\n",
       "    }\n",
       "\n",
       "    .dataframe tbody tr th {\n",
       "        vertical-align: top;\n",
       "    }\n",
       "\n",
       "    .dataframe thead th {\n",
       "        text-align: right;\n",
       "    }\n",
       "</style>\n",
       "<table border=\"1\" class=\"dataframe\">\n",
       "  <thead>\n",
       "    <tr style=\"text-align: right;\">\n",
       "      <th></th>\n",
       "      <th>video_id</th>\n",
       "      <th>trending_date</th>\n",
       "      <th>title</th>\n",
       "      <th>channel_title</th>\n",
       "      <th>category_id</th>\n",
       "      <th>publish_time</th>\n",
       "      <th>tags</th>\n",
       "      <th>views</th>\n",
       "      <th>likes</th>\n",
       "      <th>dislikes</th>\n",
       "      <th>comment_count</th>\n",
       "      <th>thumbnail_link</th>\n",
       "      <th>comments_disabled</th>\n",
       "      <th>ratings_disabled</th>\n",
       "      <th>video_error_or_removed</th>\n",
       "      <th>description</th>\n",
       "    </tr>\n",
       "  </thead>\n",
       "  <tbody>\n",
       "    <tr>\n",
       "      <th>0</th>\n",
       "      <td>kzwfHumJyYc</td>\n",
       "      <td>17.14.11</td>\n",
       "      <td>Sharry Mann: Cute Munda ( Song Teaser) | Parmi...</td>\n",
       "      <td>Lokdhun Punjabi</td>\n",
       "      <td>1</td>\n",
       "      <td>2017-11-12T12:20:39.000Z</td>\n",
       "      <td>sharry mann|\"sharry mann new song\"|\"sharry man...</td>\n",
       "      <td>1096327</td>\n",
       "      <td>33966</td>\n",
       "      <td>798</td>\n",
       "      <td>882</td>\n",
       "      <td>https://i.ytimg.com/vi/kzwfHumJyYc/default.jpg</td>\n",
       "      <td>False</td>\n",
       "      <td>False</td>\n",
       "      <td>False</td>\n",
       "      <td>Presenting Sharry Mann latest Punjabi Song  Cu...</td>\n",
       "    </tr>\n",
       "    <tr>\n",
       "      <th>1</th>\n",
       "      <td>zUZ1z7FwLc8</td>\n",
       "      <td>17.14.11</td>\n",
       "      <td>पीरियड्स के समय, पेट पर पति करता ऐसा, देखकर दं...</td>\n",
       "      <td>HJ NEWS</td>\n",
       "      <td>25</td>\n",
       "      <td>2017-11-13T05:43:56.000Z</td>\n",
       "      <td>पीरियड्स के समय|\"पेट पर पति करता ऐसा\"|\"देखकर द...</td>\n",
       "      <td>590101</td>\n",
       "      <td>735</td>\n",
       "      <td>904</td>\n",
       "      <td>0</td>\n",
       "      <td>https://i.ytimg.com/vi/zUZ1z7FwLc8/default.jpg</td>\n",
       "      <td>True</td>\n",
       "      <td>False</td>\n",
       "      <td>False</td>\n",
       "      <td>पीरियड्स के समय, पेट पर पति करता ऐसा, देखकर दं...</td>\n",
       "    </tr>\n",
       "    <tr>\n",
       "      <th>2</th>\n",
       "      <td>10L1hZ9qa58</td>\n",
       "      <td>17.14.11</td>\n",
       "      <td>Stylish Star Allu Arjun @ ChaySam Wedding Rece...</td>\n",
       "      <td>TFPC</td>\n",
       "      <td>24</td>\n",
       "      <td>2017-11-12T15:48:08.000Z</td>\n",
       "      <td>Stylish Star Allu Arjun @ ChaySam Wedding Rece...</td>\n",
       "      <td>473988</td>\n",
       "      <td>2011</td>\n",
       "      <td>243</td>\n",
       "      <td>149</td>\n",
       "      <td>https://i.ytimg.com/vi/10L1hZ9qa58/default.jpg</td>\n",
       "      <td>False</td>\n",
       "      <td>False</td>\n",
       "      <td>False</td>\n",
       "      <td>Watch Stylish Star Allu Arjun @ ChaySam Weddin...</td>\n",
       "    </tr>\n",
       "    <tr>\n",
       "      <th>3</th>\n",
       "      <td>N1vE8iiEg64</td>\n",
       "      <td>17.14.11</td>\n",
       "      <td>Eruma Saani | Tamil vs English</td>\n",
       "      <td>Eruma Saani</td>\n",
       "      <td>23</td>\n",
       "      <td>2017-11-12T07:08:48.000Z</td>\n",
       "      <td>Eruma Saani|\"Tamil Comedy Videos\"|\"Films\"|\"Mov...</td>\n",
       "      <td>1242680</td>\n",
       "      <td>70353</td>\n",
       "      <td>1624</td>\n",
       "      <td>2684</td>\n",
       "      <td>https://i.ytimg.com/vi/N1vE8iiEg64/default.jpg</td>\n",
       "      <td>False</td>\n",
       "      <td>False</td>\n",
       "      <td>False</td>\n",
       "      <td>This video showcases the difference between pe...</td>\n",
       "    </tr>\n",
       "    <tr>\n",
       "      <th>4</th>\n",
       "      <td>kJzGH0PVQHQ</td>\n",
       "      <td>17.14.11</td>\n",
       "      <td>why Samantha became EMOTIONAL @ Samantha naga ...</td>\n",
       "      <td>Filmylooks</td>\n",
       "      <td>24</td>\n",
       "      <td>2017-11-13T01:14:16.000Z</td>\n",
       "      <td>Filmylooks|\"latest news\"|\"telugu movies\"|\"telu...</td>\n",
       "      <td>464015</td>\n",
       "      <td>492</td>\n",
       "      <td>293</td>\n",
       "      <td>66</td>\n",
       "      <td>https://i.ytimg.com/vi/kJzGH0PVQHQ/default.jpg</td>\n",
       "      <td>False</td>\n",
       "      <td>False</td>\n",
       "      <td>False</td>\n",
       "      <td>why Samantha became EMOTIONAL @ Samantha naga ...</td>\n",
       "    </tr>\n",
       "  </tbody>\n",
       "</table>\n",
       "</div>"
      ],
      "text/plain": [
       "      video_id trending_date  \\\n",
       "0  kzwfHumJyYc      17.14.11   \n",
       "1  zUZ1z7FwLc8      17.14.11   \n",
       "2  10L1hZ9qa58      17.14.11   \n",
       "3  N1vE8iiEg64      17.14.11   \n",
       "4  kJzGH0PVQHQ      17.14.11   \n",
       "\n",
       "                                               title    channel_title  \\\n",
       "0  Sharry Mann: Cute Munda ( Song Teaser) | Parmi...  Lokdhun Punjabi   \n",
       "1  पीरियड्स के समय, पेट पर पति करता ऐसा, देखकर दं...          HJ NEWS   \n",
       "2  Stylish Star Allu Arjun @ ChaySam Wedding Rece...             TFPC   \n",
       "3                     Eruma Saani | Tamil vs English      Eruma Saani   \n",
       "4  why Samantha became EMOTIONAL @ Samantha naga ...       Filmylooks   \n",
       "\n",
       "   category_id              publish_time  \\\n",
       "0            1  2017-11-12T12:20:39.000Z   \n",
       "1           25  2017-11-13T05:43:56.000Z   \n",
       "2           24  2017-11-12T15:48:08.000Z   \n",
       "3           23  2017-11-12T07:08:48.000Z   \n",
       "4           24  2017-11-13T01:14:16.000Z   \n",
       "\n",
       "                                                tags    views  likes  \\\n",
       "0  sharry mann|\"sharry mann new song\"|\"sharry man...  1096327  33966   \n",
       "1  पीरियड्स के समय|\"पेट पर पति करता ऐसा\"|\"देखकर द...   590101    735   \n",
       "2  Stylish Star Allu Arjun @ ChaySam Wedding Rece...   473988   2011   \n",
       "3  Eruma Saani|\"Tamil Comedy Videos\"|\"Films\"|\"Mov...  1242680  70353   \n",
       "4  Filmylooks|\"latest news\"|\"telugu movies\"|\"telu...   464015    492   \n",
       "\n",
       "   dislikes  comment_count                                  thumbnail_link  \\\n",
       "0       798            882  https://i.ytimg.com/vi/kzwfHumJyYc/default.jpg   \n",
       "1       904              0  https://i.ytimg.com/vi/zUZ1z7FwLc8/default.jpg   \n",
       "2       243            149  https://i.ytimg.com/vi/10L1hZ9qa58/default.jpg   \n",
       "3      1624           2684  https://i.ytimg.com/vi/N1vE8iiEg64/default.jpg   \n",
       "4       293             66  https://i.ytimg.com/vi/kJzGH0PVQHQ/default.jpg   \n",
       "\n",
       "   comments_disabled  ratings_disabled  video_error_or_removed  \\\n",
       "0              False             False                   False   \n",
       "1               True             False                   False   \n",
       "2              False             False                   False   \n",
       "3              False             False                   False   \n",
       "4              False             False                   False   \n",
       "\n",
       "                                         description  \n",
       "0  Presenting Sharry Mann latest Punjabi Song  Cu...  \n",
       "1  पीरियड्स के समय, पेट पर पति करता ऐसा, देखकर दं...  \n",
       "2  Watch Stylish Star Allu Arjun @ ChaySam Weddin...  \n",
       "3  This video showcases the difference between pe...  \n",
       "4  why Samantha became EMOTIONAL @ Samantha naga ...  "
      ]
     },
     "execution_count": 4,
     "metadata": {},
     "output_type": "execute_result"
    }
   ],
   "source": [
    "india_df.head()"
   ]
  },
  {
   "cell_type": "code",
   "execution_count": 5,
   "id": "8fc6b35f",
   "metadata": {},
   "outputs": [
    {
     "data": {
      "text/plain": [
       "pandas.core.frame.DataFrame"
      ]
     },
     "execution_count": 5,
     "metadata": {},
     "output_type": "execute_result"
    }
   ],
   "source": [
    "type(india_df)"
   ]
  },
  {
   "cell_type": "code",
   "execution_count": 6,
   "id": "53e068be",
   "metadata": {},
   "outputs": [
    {
     "name": "stdout",
     "output_type": "stream",
     "text": [
      "<class 'pandas.core.frame.DataFrame'>\n",
      "RangeIndex: 37352 entries, 0 to 37351\n",
      "Data columns (total 16 columns):\n",
      " #   Column                  Non-Null Count  Dtype \n",
      "---  ------                  --------------  ----- \n",
      " 0   video_id                37352 non-null  object\n",
      " 1   trending_date           37352 non-null  object\n",
      " 2   title                   37352 non-null  object\n",
      " 3   channel_title           37352 non-null  object\n",
      " 4   category_id             37352 non-null  int64 \n",
      " 5   publish_time            37352 non-null  object\n",
      " 6   tags                    37352 non-null  object\n",
      " 7   views                   37352 non-null  int64 \n",
      " 8   likes                   37352 non-null  int64 \n",
      " 9   dislikes                37352 non-null  int64 \n",
      " 10  comment_count           37352 non-null  int64 \n",
      " 11  thumbnail_link          37352 non-null  object\n",
      " 12  comments_disabled       37352 non-null  bool  \n",
      " 13  ratings_disabled        37352 non-null  bool  \n",
      " 14  video_error_or_removed  37352 non-null  bool  \n",
      " 15  description             36791 non-null  object\n",
      "dtypes: bool(3), int64(5), object(8)\n",
      "memory usage: 3.8+ MB\n"
     ]
    }
   ],
   "source": [
    "india_df.info()"
   ]
  },
  {
   "cell_type": "code",
   "execution_count": 7,
   "id": "d870ec26",
   "metadata": {},
   "outputs": [
    {
     "data": {
      "text/html": [
       "<div>\n",
       "<style scoped>\n",
       "    .dataframe tbody tr th:only-of-type {\n",
       "        vertical-align: middle;\n",
       "    }\n",
       "\n",
       "    .dataframe tbody tr th {\n",
       "        vertical-align: top;\n",
       "    }\n",
       "\n",
       "    .dataframe thead th {\n",
       "        text-align: right;\n",
       "    }\n",
       "</style>\n",
       "<table border=\"1\" class=\"dataframe\">\n",
       "  <thead>\n",
       "    <tr style=\"text-align: right;\">\n",
       "      <th></th>\n",
       "      <th>category_id</th>\n",
       "      <th>views</th>\n",
       "      <th>likes</th>\n",
       "      <th>dislikes</th>\n",
       "      <th>comment_count</th>\n",
       "    </tr>\n",
       "  </thead>\n",
       "  <tbody>\n",
       "    <tr>\n",
       "      <th>count</th>\n",
       "      <td>37352.000000</td>\n",
       "      <td>3.735200e+04</td>\n",
       "      <td>3.735200e+04</td>\n",
       "      <td>3.735200e+04</td>\n",
       "      <td>37352.00000</td>\n",
       "    </tr>\n",
       "    <tr>\n",
       "      <th>mean</th>\n",
       "      <td>21.576596</td>\n",
       "      <td>1.060478e+06</td>\n",
       "      <td>2.708272e+04</td>\n",
       "      <td>1.665082e+03</td>\n",
       "      <td>2676.99743</td>\n",
       "    </tr>\n",
       "    <tr>\n",
       "      <th>std</th>\n",
       "      <td>6.556593</td>\n",
       "      <td>3.184932e+06</td>\n",
       "      <td>9.714510e+04</td>\n",
       "      <td>1.607617e+04</td>\n",
       "      <td>14868.31713</td>\n",
       "    </tr>\n",
       "    <tr>\n",
       "      <th>min</th>\n",
       "      <td>1.000000</td>\n",
       "      <td>4.024000e+03</td>\n",
       "      <td>0.000000e+00</td>\n",
       "      <td>0.000000e+00</td>\n",
       "      <td>0.00000</td>\n",
       "    </tr>\n",
       "    <tr>\n",
       "      <th>25%</th>\n",
       "      <td>23.000000</td>\n",
       "      <td>1.239155e+05</td>\n",
       "      <td>8.640000e+02</td>\n",
       "      <td>1.080000e+02</td>\n",
       "      <td>81.00000</td>\n",
       "    </tr>\n",
       "    <tr>\n",
       "      <th>50%</th>\n",
       "      <td>24.000000</td>\n",
       "      <td>3.045860e+05</td>\n",
       "      <td>3.069000e+03</td>\n",
       "      <td>3.260000e+02</td>\n",
       "      <td>329.00000</td>\n",
       "    </tr>\n",
       "    <tr>\n",
       "      <th>75%</th>\n",
       "      <td>24.000000</td>\n",
       "      <td>7.992912e+05</td>\n",
       "      <td>1.377425e+04</td>\n",
       "      <td>1.019250e+03</td>\n",
       "      <td>1285.00000</td>\n",
       "    </tr>\n",
       "    <tr>\n",
       "      <th>max</th>\n",
       "      <td>43.000000</td>\n",
       "      <td>1.254322e+08</td>\n",
       "      <td>2.912710e+06</td>\n",
       "      <td>1.545017e+06</td>\n",
       "      <td>827755.00000</td>\n",
       "    </tr>\n",
       "  </tbody>\n",
       "</table>\n",
       "</div>"
      ],
      "text/plain": [
       "        category_id         views         likes      dislikes  comment_count\n",
       "count  37352.000000  3.735200e+04  3.735200e+04  3.735200e+04    37352.00000\n",
       "mean      21.576596  1.060478e+06  2.708272e+04  1.665082e+03     2676.99743\n",
       "std        6.556593  3.184932e+06  9.714510e+04  1.607617e+04    14868.31713\n",
       "min        1.000000  4.024000e+03  0.000000e+00  0.000000e+00        0.00000\n",
       "25%       23.000000  1.239155e+05  8.640000e+02  1.080000e+02       81.00000\n",
       "50%       24.000000  3.045860e+05  3.069000e+03  3.260000e+02      329.00000\n",
       "75%       24.000000  7.992912e+05  1.377425e+04  1.019250e+03     1285.00000\n",
       "max       43.000000  1.254322e+08  2.912710e+06  1.545017e+06   827755.00000"
      ]
     },
     "execution_count": 7,
     "metadata": {},
     "output_type": "execute_result"
    }
   ],
   "source": [
    "india_df.describe()"
   ]
  },
  {
   "cell_type": "code",
   "execution_count": 8,
   "id": "c55c640e",
   "metadata": {},
   "outputs": [],
   "source": [
    "# looking for unique values"
   ]
  },
  {
   "cell_type": "code",
   "execution_count": 9,
   "id": "4c8b97e9",
   "metadata": {},
   "outputs": [
    {
     "data": {
      "text/plain": [
       "video_id                  16307\n",
       "trending_date               205\n",
       "title                     16721\n",
       "channel_title              1426\n",
       "category_id                  17\n",
       "publish_time              16339\n",
       "tags                      12578\n",
       "views                     32136\n",
       "likes                     15529\n",
       "dislikes                   5079\n",
       "comment_count              6027\n",
       "thumbnail_link            16523\n",
       "comments_disabled             2\n",
       "ratings_disabled              2\n",
       "video_error_or_removed        2\n",
       "description               13992\n",
       "dtype: int64"
      ]
     },
     "execution_count": 9,
     "metadata": {},
     "output_type": "execute_result"
    }
   ],
   "source": [
    "india_df.nunique()"
   ]
  },
  {
   "cell_type": "code",
   "execution_count": 10,
   "id": "e941703f",
   "metadata": {},
   "outputs": [],
   "source": [
    "# cleaning the data"
   ]
  },
  {
   "cell_type": "code",
   "execution_count": 11,
   "id": "91176f92",
   "metadata": {},
   "outputs": [],
   "source": [
    "# checking for null values"
   ]
  },
  {
   "cell_type": "code",
   "execution_count": 12,
   "id": "0af2ce4c",
   "metadata": {},
   "outputs": [
    {
     "data": {
      "text/plain": [
       "video_id                    0\n",
       "trending_date               0\n",
       "title                       0\n",
       "channel_title               0\n",
       "category_id                 0\n",
       "publish_time                0\n",
       "tags                        0\n",
       "views                       0\n",
       "likes                       0\n",
       "dislikes                    0\n",
       "comment_count               0\n",
       "thumbnail_link              0\n",
       "comments_disabled           0\n",
       "ratings_disabled            0\n",
       "video_error_or_removed      0\n",
       "description               561\n",
       "dtype: int64"
      ]
     },
     "execution_count": 12,
     "metadata": {},
     "output_type": "execute_result"
    }
   ],
   "source": [
    "india_df.isnull().sum()"
   ]
  },
  {
   "cell_type": "code",
   "execution_count": 13,
   "id": "b7fd8876",
   "metadata": {},
   "outputs": [],
   "source": [
    "# removing duplicates"
   ]
  },
  {
   "cell_type": "code",
   "execution_count": 14,
   "id": "846e5b9c",
   "metadata": {},
   "outputs": [],
   "source": [
    "df=india_df.drop_duplicates()"
   ]
  },
  {
   "cell_type": "code",
   "execution_count": 15,
   "id": "953f681f",
   "metadata": {},
   "outputs": [
    {
     "data": {
      "text/plain": [
       "(33089, 16)"
      ]
     },
     "execution_count": 15,
     "metadata": {},
     "output_type": "execute_result"
    }
   ],
   "source": [
    "df.shape"
   ]
  },
  {
   "cell_type": "code",
   "execution_count": 16,
   "id": "5f11cb2e",
   "metadata": {},
   "outputs": [],
   "source": [
    "df=df.drop(['video_id','title','tags','thumbnail_link','comments_disabled','ratings_disabled','video_error_or_removed','description'],axis=1)"
   ]
  },
  {
   "cell_type": "code",
   "execution_count": 17,
   "id": "33e5856d",
   "metadata": {},
   "outputs": [
    {
     "data": {
      "text/html": [
       "<div>\n",
       "<style scoped>\n",
       "    .dataframe tbody tr th:only-of-type {\n",
       "        vertical-align: middle;\n",
       "    }\n",
       "\n",
       "    .dataframe tbody tr th {\n",
       "        vertical-align: top;\n",
       "    }\n",
       "\n",
       "    .dataframe thead th {\n",
       "        text-align: right;\n",
       "    }\n",
       "</style>\n",
       "<table border=\"1\" class=\"dataframe\">\n",
       "  <thead>\n",
       "    <tr style=\"text-align: right;\">\n",
       "      <th></th>\n",
       "      <th>trending_date</th>\n",
       "      <th>channel_title</th>\n",
       "      <th>category_id</th>\n",
       "      <th>publish_time</th>\n",
       "      <th>views</th>\n",
       "      <th>likes</th>\n",
       "      <th>dislikes</th>\n",
       "      <th>comment_count</th>\n",
       "    </tr>\n",
       "  </thead>\n",
       "  <tbody>\n",
       "    <tr>\n",
       "      <th>0</th>\n",
       "      <td>17.14.11</td>\n",
       "      <td>Lokdhun Punjabi</td>\n",
       "      <td>1</td>\n",
       "      <td>2017-11-12T12:20:39.000Z</td>\n",
       "      <td>1096327</td>\n",
       "      <td>33966</td>\n",
       "      <td>798</td>\n",
       "      <td>882</td>\n",
       "    </tr>\n",
       "    <tr>\n",
       "      <th>1</th>\n",
       "      <td>17.14.11</td>\n",
       "      <td>HJ NEWS</td>\n",
       "      <td>25</td>\n",
       "      <td>2017-11-13T05:43:56.000Z</td>\n",
       "      <td>590101</td>\n",
       "      <td>735</td>\n",
       "      <td>904</td>\n",
       "      <td>0</td>\n",
       "    </tr>\n",
       "    <tr>\n",
       "      <th>2</th>\n",
       "      <td>17.14.11</td>\n",
       "      <td>TFPC</td>\n",
       "      <td>24</td>\n",
       "      <td>2017-11-12T15:48:08.000Z</td>\n",
       "      <td>473988</td>\n",
       "      <td>2011</td>\n",
       "      <td>243</td>\n",
       "      <td>149</td>\n",
       "    </tr>\n",
       "    <tr>\n",
       "      <th>3</th>\n",
       "      <td>17.14.11</td>\n",
       "      <td>Eruma Saani</td>\n",
       "      <td>23</td>\n",
       "      <td>2017-11-12T07:08:48.000Z</td>\n",
       "      <td>1242680</td>\n",
       "      <td>70353</td>\n",
       "      <td>1624</td>\n",
       "      <td>2684</td>\n",
       "    </tr>\n",
       "    <tr>\n",
       "      <th>4</th>\n",
       "      <td>17.14.11</td>\n",
       "      <td>Filmylooks</td>\n",
       "      <td>24</td>\n",
       "      <td>2017-11-13T01:14:16.000Z</td>\n",
       "      <td>464015</td>\n",
       "      <td>492</td>\n",
       "      <td>293</td>\n",
       "      <td>66</td>\n",
       "    </tr>\n",
       "    <tr>\n",
       "      <th>...</th>\n",
       "      <td>...</td>\n",
       "      <td>...</td>\n",
       "      <td>...</td>\n",
       "      <td>...</td>\n",
       "      <td>...</td>\n",
       "      <td>...</td>\n",
       "      <td>...</td>\n",
       "      <td>...</td>\n",
       "    </tr>\n",
       "    <tr>\n",
       "      <th>37300</th>\n",
       "      <td>18.14.06</td>\n",
       "      <td>The Timeliners</td>\n",
       "      <td>24</td>\n",
       "      <td>2018-06-08T13:54:39.000Z</td>\n",
       "      <td>2675706</td>\n",
       "      <td>96485</td>\n",
       "      <td>4181</td>\n",
       "      <td>6634</td>\n",
       "    </tr>\n",
       "    <tr>\n",
       "      <th>37301</th>\n",
       "      <td>18.14.06</td>\n",
       "      <td>WWE</td>\n",
       "      <td>17</td>\n",
       "      <td>2018-06-13T03:09:21.000Z</td>\n",
       "      <td>770873</td>\n",
       "      <td>13316</td>\n",
       "      <td>552</td>\n",
       "      <td>1175</td>\n",
       "    </tr>\n",
       "    <tr>\n",
       "      <th>37302</th>\n",
       "      <td>18.14.06</td>\n",
       "      <td>Dharma Productions</td>\n",
       "      <td>1</td>\n",
       "      <td>2018-06-11T06:50:41.000Z</td>\n",
       "      <td>27696924</td>\n",
       "      <td>468472</td>\n",
       "      <td>60025</td>\n",
       "      <td>48740</td>\n",
       "    </tr>\n",
       "    <tr>\n",
       "      <th>37319</th>\n",
       "      <td>18.14.06</td>\n",
       "      <td>Angry Prash</td>\n",
       "      <td>23</td>\n",
       "      <td>2018-06-11T08:37:21.000Z</td>\n",
       "      <td>1214423</td>\n",
       "      <td>85601</td>\n",
       "      <td>4677</td>\n",
       "      <td>7628</td>\n",
       "    </tr>\n",
       "    <tr>\n",
       "      <th>37330</th>\n",
       "      <td>18.14.06</td>\n",
       "      <td>Warangal Diaries</td>\n",
       "      <td>23</td>\n",
       "      <td>2018-06-13T10:16:21.000Z</td>\n",
       "      <td>132055</td>\n",
       "      <td>11170</td>\n",
       "      <td>393</td>\n",
       "      <td>2107</td>\n",
       "    </tr>\n",
       "  </tbody>\n",
       "</table>\n",
       "<p>33089 rows × 8 columns</p>\n",
       "</div>"
      ],
      "text/plain": [
       "      trending_date       channel_title  category_id  \\\n",
       "0          17.14.11     Lokdhun Punjabi            1   \n",
       "1          17.14.11             HJ NEWS           25   \n",
       "2          17.14.11                TFPC           24   \n",
       "3          17.14.11         Eruma Saani           23   \n",
       "4          17.14.11          Filmylooks           24   \n",
       "...             ...                 ...          ...   \n",
       "37300      18.14.06      The Timeliners           24   \n",
       "37301      18.14.06                 WWE           17   \n",
       "37302      18.14.06  Dharma Productions            1   \n",
       "37319      18.14.06         Angry Prash           23   \n",
       "37330      18.14.06    Warangal Diaries           23   \n",
       "\n",
       "                   publish_time     views   likes  dislikes  comment_count  \n",
       "0      2017-11-12T12:20:39.000Z   1096327   33966       798            882  \n",
       "1      2017-11-13T05:43:56.000Z    590101     735       904              0  \n",
       "2      2017-11-12T15:48:08.000Z    473988    2011       243            149  \n",
       "3      2017-11-12T07:08:48.000Z   1242680   70353      1624           2684  \n",
       "4      2017-11-13T01:14:16.000Z    464015     492       293             66  \n",
       "...                         ...       ...     ...       ...            ...  \n",
       "37300  2018-06-08T13:54:39.000Z   2675706   96485      4181           6634  \n",
       "37301  2018-06-13T03:09:21.000Z    770873   13316       552           1175  \n",
       "37302  2018-06-11T06:50:41.000Z  27696924  468472     60025          48740  \n",
       "37319  2018-06-11T08:37:21.000Z   1214423   85601      4677           7628  \n",
       "37330  2018-06-13T10:16:21.000Z    132055   11170       393           2107  \n",
       "\n",
       "[33089 rows x 8 columns]"
      ]
     },
     "execution_count": 17,
     "metadata": {},
     "output_type": "execute_result"
    }
   ],
   "source": [
    "df"
   ]
  },
  {
   "cell_type": "markdown",
   "id": "40fef9cc",
   "metadata": {},
   "source": [
    "# relationship analysis"
   ]
  },
  {
   "cell_type": "code",
   "execution_count": 18,
   "id": "94d13953",
   "metadata": {},
   "outputs": [
    {
     "name": "stderr",
     "output_type": "stream",
     "text": [
      "C:\\Users\\pooja sharma\\AppData\\Local\\Temp\\ipykernel_2504\\3476424618.py:1: FutureWarning: The default value of numeric_only in DataFrame.corr is deprecated. In a future version, it will default to False. Select only valid columns or specify the value of numeric_only to silence this warning.\n",
      "  corelation=df.corr()\n"
     ]
    }
   ],
   "source": [
    "corelation=df.corr()"
   ]
  },
  {
   "cell_type": "code",
   "execution_count": 19,
   "id": "efc6f5be",
   "metadata": {},
   "outputs": [
    {
     "data": {
      "image/png": "[encoded data removed]",
      "text/plain": [
       "<Figure size 640x480 with 2 Axes>"
      ]
     },
     "metadata": {},
     "output_type": "display_data"
    }
   ],
   "source": [
    "sns.heatmap(corelation, xticklabels=corelation.columns, yticklabels=corelation.columns,annot=True);"
   ]
  },
  {
   "cell_type": "code",
   "execution_count": 20,
   "id": "5f017bb6",
   "metadata": {},
   "outputs": [],
   "source": [
    "#taking a random sample"
   ]
  },
  {
   "cell_type": "code",
   "execution_count": 21,
   "id": "de0cf2f4",
   "metadata": {},
   "outputs": [
    {
     "data": {
      "text/html": [
       "<div>\n",
       "<style scoped>\n",
       "    .dataframe tbody tr th:only-of-type {\n",
       "        vertical-align: middle;\n",
       "    }\n",
       "\n",
       "    .dataframe tbody tr th {\n",
       "        vertical-align: top;\n",
       "    }\n",
       "\n",
       "    .dataframe thead th {\n",
       "        text-align: right;\n",
       "    }\n",
       "</style>\n",
       "<table border=\"1\" class=\"dataframe\">\n",
       "  <thead>\n",
       "    <tr style=\"text-align: right;\">\n",
       "      <th></th>\n",
       "      <th>trending_date</th>\n",
       "      <th>channel_title</th>\n",
       "      <th>category_id</th>\n",
       "      <th>publish_time</th>\n",
       "      <th>views</th>\n",
       "      <th>likes</th>\n",
       "      <th>dislikes</th>\n",
       "      <th>comment_count</th>\n",
       "    </tr>\n",
       "  </thead>\n",
       "  <tbody>\n",
       "    <tr>\n",
       "      <th>1438</th>\n",
       "      <td>17.21.11</td>\n",
       "      <td>ETV Jabardasth</td>\n",
       "      <td>22</td>\n",
       "      <td>2017-11-17T22:17:02.000Z</td>\n",
       "      <td>1679136</td>\n",
       "      <td>6879</td>\n",
       "      <td>998</td>\n",
       "      <td>461</td>\n",
       "    </tr>\n",
       "    <tr>\n",
       "      <th>18555</th>\n",
       "      <td>18.24.02</td>\n",
       "      <td>Voice of Dissent</td>\n",
       "      <td>25</td>\n",
       "      <td>2018-02-22T15:55:55.000Z</td>\n",
       "      <td>195568</td>\n",
       "      <td>6912</td>\n",
       "      <td>274</td>\n",
       "      <td>1683</td>\n",
       "    </tr>\n",
       "    <tr>\n",
       "      <th>15260</th>\n",
       "      <td>18.05.02</td>\n",
       "      <td>BB Ki Vines</td>\n",
       "      <td>24</td>\n",
       "      <td>2018-01-30T14:10:39.000Z</td>\n",
       "      <td>9015225</td>\n",
       "      <td>724982</td>\n",
       "      <td>7842</td>\n",
       "      <td>65882</td>\n",
       "    </tr>\n",
       "    <tr>\n",
       "      <th>31887</th>\n",
       "      <td>18.15.05</td>\n",
       "      <td>News Tak</td>\n",
       "      <td>25</td>\n",
       "      <td>2018-05-13T05:53:33.000Z</td>\n",
       "      <td>372820</td>\n",
       "      <td>1913</td>\n",
       "      <td>363</td>\n",
       "      <td>1629</td>\n",
       "    </tr>\n",
       "    <tr>\n",
       "      <th>22136</th>\n",
       "      <td>18.17.03</td>\n",
       "      <td>TV9 Today</td>\n",
       "      <td>25</td>\n",
       "      <td>2018-03-13T13:13:58.000Z</td>\n",
       "      <td>224690</td>\n",
       "      <td>552</td>\n",
       "      <td>136</td>\n",
       "      <td>304</td>\n",
       "    </tr>\n",
       "    <tr>\n",
       "      <th>16742</th>\n",
       "      <td>18.13.02</td>\n",
       "      <td>zeetvtelugu</td>\n",
       "      <td>24</td>\n",
       "      <td>2018-02-11T09:38:18.000Z</td>\n",
       "      <td>102746</td>\n",
       "      <td>141</td>\n",
       "      <td>29</td>\n",
       "      <td>13</td>\n",
       "    </tr>\n",
       "    <tr>\n",
       "      <th>1838</th>\n",
       "      <td>17.23.11</td>\n",
       "      <td>Newstamil.in</td>\n",
       "      <td>24</td>\n",
       "      <td>2017-11-21T12:09:57.000Z</td>\n",
       "      <td>90375</td>\n",
       "      <td>172</td>\n",
       "      <td>43</td>\n",
       "      <td>7</td>\n",
       "    </tr>\n",
       "    <tr>\n",
       "      <th>14599</th>\n",
       "      <td>18.01.02</td>\n",
       "      <td>Namma Karunadu ನಮ್ಮ ಕರುನಾಡು</td>\n",
       "      <td>24</td>\n",
       "      <td>2018-01-29T08:42:44.000Z</td>\n",
       "      <td>92475</td>\n",
       "      <td>0</td>\n",
       "      <td>0</td>\n",
       "      <td>0</td>\n",
       "    </tr>\n",
       "    <tr>\n",
       "      <th>9439</th>\n",
       "      <td>18.02.01</td>\n",
       "      <td>Ankur Narula Ministries</td>\n",
       "      <td>29</td>\n",
       "      <td>2017-12-31T23:03:05.000Z</td>\n",
       "      <td>29704</td>\n",
       "      <td>1409</td>\n",
       "      <td>46</td>\n",
       "      <td>121</td>\n",
       "    </tr>\n",
       "    <tr>\n",
       "      <th>16019</th>\n",
       "      <td>18.09.02</td>\n",
       "      <td>Tollywood Central</td>\n",
       "      <td>24</td>\n",
       "      <td>2018-02-06T07:04:11.000Z</td>\n",
       "      <td>347077</td>\n",
       "      <td>390</td>\n",
       "      <td>162</td>\n",
       "      <td>20</td>\n",
       "    </tr>\n",
       "  </tbody>\n",
       "</table>\n",
       "</div>"
      ],
      "text/plain": [
       "      trending_date                channel_title  category_id  \\\n",
       "1438       17.21.11               ETV Jabardasth           22   \n",
       "18555      18.24.02             Voice of Dissent           25   \n",
       "15260      18.05.02                  BB Ki Vines           24   \n",
       "31887      18.15.05                     News Tak           25   \n",
       "22136      18.17.03                    TV9 Today           25   \n",
       "16742      18.13.02                  zeetvtelugu           24   \n",
       "1838       17.23.11                 Newstamil.in           24   \n",
       "14599      18.01.02  Namma Karunadu ನಮ್ಮ ಕರುನಾಡು           24   \n",
       "9439       18.02.01      Ankur Narula Ministries           29   \n",
       "16019      18.09.02            Tollywood Central           24   \n",
       "\n",
       "                   publish_time    views   likes  dislikes  comment_count  \n",
       "1438   2017-11-17T22:17:02.000Z  1679136    6879       998            461  \n",
       "18555  2018-02-22T15:55:55.000Z   195568    6912       274           1683  \n",
       "15260  2018-01-30T14:10:39.000Z  9015225  724982      7842          65882  \n",
       "31887  2018-05-13T05:53:33.000Z   372820    1913       363           1629  \n",
       "22136  2018-03-13T13:13:58.000Z   224690     552       136            304  \n",
       "16742  2018-02-11T09:38:18.000Z   102746     141        29             13  \n",
       "1838   2017-11-21T12:09:57.000Z    90375     172        43              7  \n",
       "14599  2018-01-29T08:42:44.000Z    92475       0         0              0  \n",
       "9439   2017-12-31T23:03:05.000Z    29704    1409        46            121  \n",
       "16019  2018-02-06T07:04:11.000Z   347077     390       162             20  "
      ]
     },
     "execution_count": 21,
     "metadata": {},
     "output_type": "execute_result"
    }
   ],
   "source": [
    "df.sample(10)"
   ]
  },
  {
   "cell_type": "markdown",
   "id": "a6f9a234",
   "metadata": {},
   "source": [
    "# exploring the variables"
   ]
  },
  {
   "cell_type": "code",
   "execution_count": 22,
   "id": "5384a693",
   "metadata": {},
   "outputs": [],
   "source": [
    "import matplotlib\n",
    "\n",
    "sns.set_style('darkgrid')\n",
    "matplotlib.rcParams['font.size']=14\n",
    "matplotlib.rcParams['figure.figsize']=(9,5)\n",
    "matplotlib.rcParams['figure.facecolor']='#00000000'"
   ]
  },
  {
   "cell_type": "code",
   "execution_count": 23,
   "id": "273516cb",
   "metadata": {},
   "outputs": [],
   "source": [
    "# identifying top channels"
   ]
  },
  {
   "cell_type": "code",
   "execution_count": 24,
   "id": "e9dc437d",
   "metadata": {},
   "outputs": [
    {
     "data": {
      "text/plain": [
       "VikatanTV             208\n",
       "SAB TV                206\n",
       "ETV Plus India        206\n",
       "etvteluguindia        205\n",
       "Study IQ education    202\n",
       "Flowers Comedy        202\n",
       "SET India             199\n",
       "Tarang TV             199\n",
       "Mazhavil Manorama     196\n",
       "RadaanMedia           193\n",
       "V6 News Telugu        190\n",
       "Technical Guruji      189\n",
       "T-Series              188\n",
       "ETV Jabardasth        185\n",
       "mallemalatv           184\n",
       "Name: channel_title, dtype: int64"
      ]
     },
     "execution_count": 24,
     "metadata": {},
     "output_type": "execute_result"
    }
   ],
   "source": [
    "top_channels=df.channel_title.value_counts().head(15)\n",
    "top_channels"
   ]
  },
  {
   "cell_type": "code",
   "execution_count": 25,
   "id": "9d902cf6",
   "metadata": {},
   "outputs": [],
   "source": [
    "# bottom channels"
   ]
  },
  {
   "cell_type": "code",
   "execution_count": 26,
   "id": "0c8621fa",
   "metadata": {},
   "outputs": [
    {
     "data": {
      "text/plain": [
       "BapaoGiri              1\n",
       "Top 5                  1\n",
       "Kerala Fans Club       1\n",
       "Telugu Trending        1\n",
       "Netflix India          1\n",
       "Illumination           1\n",
       "gallinews              1\n",
       "Jaaz Multimedia        1\n",
       "BLUSH                  1\n",
       "Charan TV Online       1\n",
       "All Updates            1\n",
       "Challenge Mantra       1\n",
       "Alpha Digitech         1\n",
       "YouTube Got Talent     1\n",
       "PropheC Productions    1\n",
       "Name: channel_title, dtype: int64"
      ]
     },
     "execution_count": 26,
     "metadata": {},
     "output_type": "execute_result"
    }
   ],
   "source": [
    "bottom_channels=df.channel_title.value_counts().tail(15)\n",
    "bottom_channels"
   ]
  },
  {
   "cell_type": "markdown",
   "id": "7eaf8120",
   "metadata": {},
   "source": [
    "# visualisisng top channels using bar cart"
   ]
  },
  {
   "cell_type": "code",
   "execution_count": 27,
   "id": "b2ccf69d",
   "metadata": {
    "scrolled": true
   },
   "outputs": [
    {
     "data": {
      "image/png": "[encoded data removed]",
      "text/plain": [
       "<Figure size 1000x500 with 1 Axes>"
      ]
     },
     "metadata": {
      "needs_background": "light"
     },
     "output_type": "display_data"
    }
   ],
   "source": [
    "plt.figure(figsize=(10,5))\n",
    "plt.xticks(rotation=75)\n",
    "plt.title('Top_Channels')\n",
    "sns.barplot(x=top_channels.index, y=top_channels, alpha=0.8);"
   ]
  },
  {
   "cell_type": "markdown",
   "id": "72698ac6",
   "metadata": {},
   "source": [
    "# hypothesis testing using Z test for likes"
   ]
  },
  {
   "cell_type": "code",
   "execution_count": 28,
   "id": "6a725e67",
   "metadata": {},
   "outputs": [],
   "source": [
    "import math"
   ]
  },
  {
   "cell_type": "code",
   "execution_count": 29,
   "id": "422f5d38",
   "metadata": {},
   "outputs": [],
   "source": [
    "# population mean"
   ]
  },
  {
   "cell_type": "code",
   "execution_count": 30,
   "id": "e9683afc",
   "metadata": {},
   "outputs": [
    {
     "data": {
      "text/plain": [
       "25587.621052313458"
      ]
     },
     "execution_count": 30,
     "metadata": {},
     "output_type": "execute_result"
    }
   ],
   "source": [
    "pop_mean=df.likes.mean()\n",
    "pop_mean"
   ]
  },
  {
   "cell_type": "code",
   "execution_count": 31,
   "id": "60ef226a",
   "metadata": {},
   "outputs": [],
   "source": [
    "# creating the hypothesis"
   ]
  },
  {
   "cell_type": "code",
   "execution_count": 32,
   "id": "385c15a3",
   "metadata": {},
   "outputs": [],
   "source": [
    "#      Null hypothesis H0: µ=25587.6\n",
    "# Alternate hypothesis H1: µ!=25587.6"
   ]
  },
  {
   "cell_type": "code",
   "execution_count": 33,
   "id": "51a3aa4f",
   "metadata": {},
   "outputs": [],
   "source": [
    "# taking α=0.05, Z=±1.96"
   ]
  },
  {
   "cell_type": "code",
   "execution_count": 34,
   "id": "680e2390",
   "metadata": {},
   "outputs": [],
   "source": [
    "# taking a random sample of 1000 and getting sample mean"
   ]
  },
  {
   "cell_type": "code",
   "execution_count": 35,
   "id": "f0ed81a6",
   "metadata": {},
   "outputs": [
    {
     "data": {
      "text/plain": [
       "23371.377"
      ]
     },
     "execution_count": 35,
     "metadata": {},
     "output_type": "execute_result"
    }
   ],
   "source": [
    "sample_mean=df.sample(1000).likes.mean()\n",
    "sample_mean"
   ]
  },
  {
   "cell_type": "code",
   "execution_count": 36,
   "id": "0c65d56a",
   "metadata": {},
   "outputs": [],
   "source": [
    "# standard deviation"
   ]
  },
  {
   "cell_type": "code",
   "execution_count": 37,
   "id": "990e4c98",
   "metadata": {},
   "outputs": [],
   "source": [
    "std=np.std(df.likes)"
   ]
  },
  {
   "cell_type": "code",
   "execution_count": 38,
   "id": "a1a7db8c",
   "metadata": {},
   "outputs": [
    {
     "data": {
      "text/plain": [
       "96471.73722117719"
      ]
     },
     "execution_count": 38,
     "metadata": {},
     "output_type": "execute_result"
    }
   ],
   "source": [
    "std"
   ]
  },
  {
   "cell_type": "code",
   "execution_count": 39,
   "id": "2c851d4a",
   "metadata": {},
   "outputs": [],
   "source": [
    "# calculating for z "
   ]
  },
  {
   "cell_type": "code",
   "execution_count": 40,
   "id": "3a4adce3",
   "metadata": {},
   "outputs": [
    {
     "data": {
      "text/plain": [
       "0.7264696643789087"
      ]
     },
     "execution_count": 40,
     "metadata": {},
     "output_type": "execute_result"
    }
   ],
   "source": [
    "(pop_mean-sample_mean)/(std/math.sqrt(1000))"
   ]
  },
  {
   "cell_type": "code",
   "execution_count": 41,
   "id": "0349af61",
   "metadata": {},
   "outputs": [],
   "source": [
    "# calculated z score is less than than 1.96, so we do not reject the null hypothesis at α=.05\n"
   ]
  },
  {
   "cell_type": "code",
   "execution_count": null,
   "id": "b5f3924c",
   "metadata": {},
   "outputs": [],
   "source": []
  },
  {
   "cell_type": "code",
   "execution_count": null,
   "id": "4dfc784e",
   "metadata": {},
   "outputs": [],
   "source": []
  },
  {
   "cell_type": "code",
   "execution_count": null,
   "id": "cf436c02",
   "metadata": {},
   "outputs": [],
   "source": []
  }
 ],
 "metadata": {
  "kernelspec": {
   "display_name": "Python 3 (ipykernel)",
   "language": "python",
   "name": "python3"
  },
  "language_info": {
   "codemirror_mode": {
    "name": "ipython",
    "version": 3
   },
   "file_extension": ".py",
   "mimetype": "text/x-python",
   "name": "python",
   "nbconvert_exporter": "python",
   "pygments_lexer": "ipython3",
   "version": "3.11.4"
  }
 },
 "nbformat": 4,
 "nbformat_minor": 5
}
